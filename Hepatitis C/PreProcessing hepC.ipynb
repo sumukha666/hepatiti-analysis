{
 "cells": [
  {
   "cell_type": "code",
   "execution_count": 1,
   "metadata": {},
   "outputs": [],
   "source": [
    "import pandas as pd\n",
    "import numpy as np\n",
    "import matplotlib.pyplot as plt\n",
    "\n",
    "from sklearn.ensemble import RandomForestClassifier\n",
    "from sklearn.model_selection import train_test_split, GridSearchCV\n",
    "\n",
    "from sklearn.metrics import roc_curve, auc, accuracy_score\n",
    "from sklearn.metrics import precision_recall_curve, confusion_matrix\n",
    "\n",
    "from sklearn.preprocessing import Imputer\n"
   ]
  },
  {
   "cell_type": "code",
   "execution_count": 32,
   "metadata": {},
   "outputs": [
    {
     "name": "stdout",
     "output_type": "stream",
     "text": [
      "(1385, 29)\n"
     ]
    }
   ],
   "source": [
    "df = pd.read_csv(\"../HCV-Egy-Data.csv\")\n",
    "df.head()\n",
    "print df.shape"
   ]
  },
  {
   "cell_type": "code",
   "execution_count": 3,
   "metadata": {},
   "outputs": [],
   "source": [
    "def Age(val):\n",
    "    if(val<32):\n",
    "        return 1\n",
    "    elif(val<37):\n",
    "        return 2\n",
    "    elif(val<42):\n",
    "        return 3\n",
    "    elif(val<47):\n",
    "        return 4\n",
    "    elif(val<52):\n",
    "        return 5\n",
    "    elif(val<57):\n",
    "        return 6\n",
    "    elif(val<62):\n",
    "        return 7\n",
    "    else: \n",
    "        return 8"
   ]
  },
  {
   "cell_type": "code",
   "execution_count": 4,
   "metadata": {},
   "outputs": [],
   "source": [
    "def BMI(val):\n",
    "    if(val<18.5):\n",
    "        return 1\n",
    "    elif(val<25):\n",
    "        return 2\n",
    "    elif(val<30):\n",
    "        return 3\n",
    "    elif(val<35):\n",
    "        return 4\n",
    "    else:\n",
    "        return 5"
   ]
  },
  {
   "cell_type": "code",
   "execution_count": 5,
   "metadata": {},
   "outputs": [],
   "source": [
    "def WBC(val):\n",
    "    if(val<4000):\n",
    "        return 1\n",
    "    elif(val<11000):\n",
    "        return 2\n",
    "    elif(val<12101):\n",
    "        return 3\n",
    "    else:\n",
    "        return 4"
   ]
  },
  {
   "cell_type": "code",
   "execution_count": 6,
   "metadata": {},
   "outputs": [],
   "source": [
    "def RBC(val):\n",
    "    if(val<3000000):\n",
    "        return 1\n",
    "    elif(val<5000000):\n",
    "        return 2\n",
    "    elif(val<5018451):\n",
    "        return 3\n",
    "    else:\n",
    "        return 4"
   ]
  },
  {
   "cell_type": "code",
   "execution_count": 7,
   "metadata": {},
   "outputs": [],
   "source": [
    "def HGB(sex,val):\n",
    "    if(sex == 1):\n",
    "        if(val<14):\n",
    "            return 1\n",
    "        elif(val<17.5):\n",
    "            return 2\n",
    "        elif(val<20):\n",
    "            return 3\n",
    "        else:\n",
    "            return 4\n",
    "    else:\n",
    "        if(val<12.3):\n",
    "            return 1\n",
    "        elif(val<15.3):\n",
    "            return 2\n",
    "        elif(val<20):\n",
    "            return 3\n",
    "        else:\n",
    "            return 4\n",
    "        "
   ]
  },
  {
   "cell_type": "code",
   "execution_count": 8,
   "metadata": {},
   "outputs": [],
   "source": [
    "def Plat(val):\n",
    "    if(val<100000):\n",
    "        return 1\n",
    "    elif(val<255000):\n",
    "        return 2\n",
    "    elif(val<226465):\n",
    "        return 3\n",
    "    else:\n",
    "        return 4\n",
    "    "
   ]
  },
  {
   "cell_type": "code",
   "execution_count": 9,
   "metadata": {},
   "outputs": [],
   "source": [
    "def ASL_AST(val):\n",
    "    if(val<20):\n",
    "        return 1\n",
    "    elif(val<40):\n",
    "        return 2\n",
    "    elif(val<128):\n",
    "        return 3\n",
    "    else:\n",
    "        return 4\n",
    "    "
   ]
  },
  {
   "cell_type": "code",
   "execution_count": 10,
   "metadata": {},
   "outputs": [],
   "source": [
    "def RNA(val):\n",
    "    if(val<=5):\n",
    "        return 1\n",
    "    else:\n",
    "        return 2"
   ]
  },
  {
   "cell_type": "code",
   "execution_count": null,
   "metadata": {},
   "outputs": [],
   "source": []
  },
  {
   "cell_type": "code",
   "execution_count": 11,
   "metadata": {},
   "outputs": [],
   "source": [
    "# for index, row in df.iterrows(): \n",
    "#     print (row)\n",
    "#     print(\"\\n\")"
   ]
  },
  {
   "cell_type": "code",
   "execution_count": 33,
   "metadata": {},
   "outputs": [],
   "source": [
    "count =0\n",
    "for i in range(len(df)): \n",
    "    df.iloc[i,0]=Age(df.iloc[i,0])\n",
    "    df.iloc[i,2]=BMI(df.iloc[i,2])\n",
    "    df.iloc[i,10]=WBC(df.iloc[i,10])\n",
    "    df.iloc[i,11]=RBC(df.iloc[i,11])\n",
    "    df.iloc[i,12]=HGB(df.iloc[i,1],df.iloc[i,12])\n",
    "    df.iloc[i,13]=Plat(df.iloc[i,13])\n",
    "    df.iloc[i,14]=ASL_AST(df.iloc[i,14])\n",
    "    df.iloc[i,15]=ASL_AST(df.iloc[i,15])\n",
    "    df.iloc[i,16]=ASL_AST(df.iloc[i,16])\n",
    "    df.iloc[i,17]=ASL_AST(df.iloc[i,17])\n",
    "    df.iloc[i,18]=ASL_AST(df.iloc[i,18])\n",
    "    df.iloc[i,19]=ASL_AST(df.iloc[i,19])\n",
    "    df.iloc[i,20]=ASL_AST(df.iloc[i,20])\n",
    "    df.iloc[i,21]=ASL_AST(df.iloc[i,21])\n",
    "    df.iloc[i,22]=RNA(df.iloc[i,22])\n",
    "    df.iloc[i,23]=RNA(df.iloc[i,23])\n",
    "    df.iloc[i,24]=RNA(df.iloc[i,24])\n",
    "    df.iloc[i,25]=RNA(df.iloc[i,25])\n",
    "    df.iloc[i,26]=RNA(df.iloc[i,26])\n",
    "    \n",
    "\n"
   ]
  },
  {
   "cell_type": "code",
   "execution_count": null,
   "metadata": {},
   "outputs": [],
   "source": []
  },
  {
   "cell_type": "code",
   "execution_count": 34,
   "metadata": {},
   "outputs": [
    {
     "name": "stdout",
     "output_type": "stream",
     "text": [
      "      Age   Gender  BMI  Fever  Nausea/Vomting  Headache   Diarrhea   \\\n",
      "0        6       1    5      2               1          1          1   \n",
      "1        4       1    3      1               2          2          1   \n",
      "2        7       1    4      2               2          2          2   \n",
      "3        5       2    4      1               2          1          2   \n",
      "4        7       1    4      1               1          2          1   \n",
      "5        7       2    2      2               2          2          1   \n",
      "6        4       2    3      1               1          2          2   \n",
      "7        5       2    4      1               1          2          2   \n",
      "8        4       1    2      1               1          2          2   \n",
      "9        4       1    4      2               1          2          2   \n",
      "10       3       2    2      2               1          2          1   \n",
      "11       2       1    2      2               2          1          1   \n",
      "12       4       2    3      2               1          1          1   \n",
      "13       2       1    2      1               2          1          1   \n",
      "14       3       2    4      2               2          2          1   \n",
      "15       7       1    4      2               1          1          1   \n",
      "16       7       1    5      1               2          2          2   \n",
      "17       6       2    2      2               1          2          2   \n",
      "18       6       1    3      1               2          2          2   \n",
      "19       2       2    2      2               2          1          1   \n",
      "20       7       2    2      1               1          2          2   \n",
      "21       2       1    3      2               1          2          2   \n",
      "22       3       1    2      1               2          2          2   \n",
      "23       3       2    3      1               2          1          2   \n",
      "24       2       2    2      1               2          2          2   \n",
      "25       4       2    4      2               2          2          1   \n",
      "26       5       1    4      2               1          2          2   \n",
      "27       3       2    4      2               1          2          1   \n",
      "28       7       2    3      1               2          2          1   \n",
      "29       5       2    3      1               1          2          1   \n",
      "...    ...     ...  ...    ...             ...        ...        ...   \n",
      "1355     2       1    3      2               1          1          1   \n",
      "1356     4       1    4      1               2          1          1   \n",
      "1357     5       1    3      1               1          1          2   \n",
      "1358     4       1    4      1               2          2          2   \n",
      "1359     2       1    2      2               1          2          1   \n",
      "1360     2       2    4      1               2          2          1   \n",
      "1361     2       1    2      2               2          1          2   \n",
      "1362     3       2    3      2               1          2          2   \n",
      "1363     5       1    2      2               2          1          1   \n",
      "1364     7       2    2      2               1          1          1   \n",
      "1365     6       1    3      1               1          1          2   \n",
      "1366     5       1    4      1               1          2          1   \n",
      "1367     7       1    4      1               2          1          1   \n",
      "1368     5       2    4      2               2          2          2   \n",
      "1369     2       1    3      1               2          1          1   \n",
      "1370     7       2    4      2               2          2          1   \n",
      "1371     5       1    4      1               2          1          2   \n",
      "1372     4       1    3      1               1          2          1   \n",
      "1373     4       1    3      1               1          1          2   \n",
      "1374     6       1    4      2               1          2          2   \n",
      "1375     7       1    3      1               2          1          1   \n",
      "1376     4       1    3      2               1          2          2   \n",
      "1377     6       2    3      1               2          1          1   \n",
      "1378     2       1    2      1               1          1          2   \n",
      "1379     6       1    4      2               2          1          2   \n",
      "1380     4       1    3      1               2          2          2   \n",
      "1381     6       1    4      1               2          2          1   \n",
      "1382     4       1    3      2               2          1          1   \n",
      "1383     6       1    3      2               1          1          2   \n",
      "1384     6       2    3      1               2          2          2   \n",
      "\n",
      "      Fatigue & generalized bone ache   Jaundice   Epigastric pain   WBC  RBC  \\\n",
      "0                                    2          2                 2    2  2.0   \n",
      "1                                    2          2                 1    4  2.0   \n",
      "2                                    1          1                 1    2  2.0   \n",
      "3                                    1          2                 1    2  2.0   \n",
      "4                                    2          2                 2    1  2.0   \n",
      "5                                    2          2                 1    3  2.0   \n",
      "6                                    2          2                 2    3  2.0   \n",
      "7                                    1          1                 2    2  2.0   \n",
      "8                                    2          1                 2    2  2.0   \n",
      "9                                    1          1                 2    2  2.0   \n",
      "10                                   2          2                 1    2  2.0   \n",
      "11                                   1          1                 1    2  2.0   \n",
      "12                                   2          1                 2    2  2.0   \n",
      "13                                   2          2                 1    2  2.0   \n",
      "14                                   2          1                 1    3  2.0   \n",
      "15                                   2          1                 1    2  2.0   \n",
      "16                                   1          1                 2    2  2.0   \n",
      "17                                   2          2                 2    2  2.0   \n",
      "18                                   2          2                 2    2  2.0   \n",
      "19                                   1          1                 2    2  2.0   \n",
      "20                                   1          1                 1    2  2.0   \n",
      "21                                   2          2                 2    2  2.0   \n",
      "22                                   2          1                 2    2  2.0   \n",
      "23                                   1          1                 2    2  2.0   \n",
      "24                                   2          1                 2    2  2.0   \n",
      "25                                   1          1                 1    2  2.0   \n",
      "26                                   1          1                 2    3  2.0   \n",
      "27                                   1          1                 2    2  2.0   \n",
      "28                                   1          1                 2    2  2.0   \n",
      "29                                   2          1                 2    2  2.0   \n",
      "...                                ...        ...               ...  ...  ...   \n",
      "1355                                 2          1                 2    2  2.0   \n",
      "1356                                 2          2                 2    2  2.0   \n",
      "1357                                 1          2                 1    3  2.0   \n",
      "1358                                 1          2                 1    2  2.0   \n",
      "1359                                 1          1                 2    2  2.0   \n",
      "1360                                 2          1                 2    2  2.0   \n",
      "1361                                 1          2                 1    1  2.0   \n",
      "1362                                 1          1                 1    2  3.0   \n",
      "1363                                 2          1                 1    2  2.0   \n",
      "1364                                 2          1                 1    2  2.0   \n",
      "1365                                 1          2                 1    2  2.0   \n",
      "1366                                 2          2                 2    2  2.0   \n",
      "1367                                 2          2                 2    2  2.0   \n",
      "1368                                 1          1                 2    1  2.0   \n",
      "1369                                 1          1                 1    2  2.0   \n",
      "1370                                 1          1                 2    2  2.0   \n",
      "1371                                 2          1                 2    2  2.0   \n",
      "1372                                 1          1                 1    2  2.0   \n",
      "1373                                 1          2                 1    2  2.0   \n",
      "1374                                 1          1                 1    3  2.0   \n",
      "1375                                 2          2                 1    2  2.0   \n",
      "1376                                 1          2                 1    1  2.0   \n",
      "1377                                 1          1                 1    2  2.0   \n",
      "1378                                 2          2                 1    2  2.0   \n",
      "1379                                 2          2                 1    2  2.0   \n",
      "1380                                 1          1                 1    2  2.0   \n",
      "1381                                 1          1                 1    2  2.0   \n",
      "1382                                 1          2                 1    2  2.0   \n",
      "1383                                 2          2                 1    2  2.0   \n",
      "1384                                 1          2                 1    3  2.0   \n",
      "\n",
      "      HGB  Plat  RNA Base  RNA 4  RNA 12  RNA EOT  RNA EF  \\\n",
      "0       2   2.0         2      2       2        1       1   \n",
      "1       1   2.0         2      2       2        2       2   \n",
      "2       1   2.0         2      2       1        2       2   \n",
      "3       1   2.0         2      2       2        2       2   \n",
      "4       1   2.0         2      2       2        2       2   \n",
      "5       2   2.0         2      2       1        1       1   \n",
      "6       1   2.0         2      2       2        2       2   \n",
      "7       1   2.0         2      2       2        2       2   \n",
      "8       1   2.0         2      2       1        2       2   \n",
      "9       1   1.0         2      2       2        2       2   \n",
      "10      1   2.0         2      2       2        2       2   \n",
      "11      1   2.0         2      2       2        2       2   \n",
      "12      2   2.0         2      2       1        1       1   \n",
      "13      2   2.0         2      2       2        2       2   \n",
      "14      2   2.0         2      2       2        2       2   \n",
      "15      1   2.0         2      2       2        2       2   \n",
      "16      1   2.0         2      2       1        1       1   \n",
      "17      2   2.0         2      2       2        2       2   \n",
      "18      2   2.0         2      2       2        2       2   \n",
      "19      1   2.0         2      2       2        2       2   \n",
      "20      2   2.0         2      2       2        2       2   \n",
      "21      1   2.0         2      2       1        1       1   \n",
      "22      2   1.0         2      2       2        2       2   \n",
      "23      1   2.0         2      2       2        2       2   \n",
      "24      1   2.0         2      2       2        2       2   \n",
      "25      2   2.0         2      2       1        1       1   \n",
      "26      2   1.0         2      2       2        2       2   \n",
      "27      1   2.0         2      2       2        2       2   \n",
      "28      2   2.0         2      2       1        1       1   \n",
      "29      2   2.0         2      2       2        2       2   \n",
      "...   ...   ...       ...    ...     ...      ...     ...   \n",
      "1355    1   2.0         2      2       2        2       2   \n",
      "1356    1   2.0         2      2       1        1       1   \n",
      "1357    1   2.0         2      2       2        2       2   \n",
      "1358    2   2.0         2      2       2        2       2   \n",
      "1359    1   2.0         2      2       2        2       2   \n",
      "1360    2   2.0         2      2       1        1       1   \n",
      "1361    1   2.0         2      2       2        2       2   \n",
      "1362    1   2.0         2      2       1        1       1   \n",
      "1363    1   2.0         2      2       2        2       2   \n",
      "1364    1   2.0         2      2       2        2       2   \n",
      "1365    2   2.0         2      2       1        1       1   \n",
      "1366    1   2.0         2      2       1        1       1   \n",
      "1367    2   2.0         2      2       1        1       1   \n",
      "1368    2   2.0         2      2       1        1       1   \n",
      "1369    1   2.0         2      2       1        1       1   \n",
      "1370    2   2.0         2      2       2        2       2   \n",
      "1371    1   2.0         2      2       2        2       2   \n",
      "1372    2   2.0         2      2       2        2       2   \n",
      "1373    1   2.0         2      2       1        1       1   \n",
      "1374    1   2.0         2      2       2        2       2   \n",
      "1375    1   2.0         2      2       2        2       2   \n",
      "1376    1   2.0         2      2       1        1       1   \n",
      "1377    2   2.0         2      2       2        2       2   \n",
      "1378    1   2.0         2      2       2        2       2   \n",
      "1379    1   2.0         2      2       2        2       2   \n",
      "1380    2   2.0         2      2       1        1       1   \n",
      "1381    1   2.0         2      2       2        2       2   \n",
      "1382    2   2.0         2      2       2        2       2   \n",
      "1383    1   2.0         2      2       2        2       2   \n",
      "1384    2   2.0         2      2       1        1       1   \n",
      "\n",
      "      Baseline histological Grading  \n",
      "0                                13  \n",
      "1                                 4  \n",
      "2                                 4  \n",
      "3                                10  \n",
      "4                                11  \n",
      "5                                 4  \n",
      "6                                12  \n",
      "7                                12  \n",
      "8                                 5  \n",
      "9                                 4  \n",
      "10                               15  \n",
      "11                               16  \n",
      "12                                8  \n",
      "13                                9  \n",
      "14                                8  \n",
      "15                               15  \n",
      "16                                3  \n",
      "17                                4  \n",
      "18                                6  \n",
      "19                               16  \n",
      "20                                6  \n",
      "21                                4  \n",
      "22                               10  \n",
      "23                               15  \n",
      "24                                6  \n",
      "25                                9  \n",
      "26                                5  \n",
      "27                               15  \n",
      "28                                9  \n",
      "29                                9  \n",
      "...                             ...  \n",
      "1355                             10  \n",
      "1356                             11  \n",
      "1357                             10  \n",
      "1358                             11  \n",
      "1359                             14  \n",
      "1360                              6  \n",
      "1361                              3  \n",
      "1362                             11  \n",
      "1363                              8  \n",
      "1364                              7  \n",
      "1365                             15  \n",
      "1366                             14  \n",
      "1367                             15  \n",
      "1368                              8  \n",
      "1369                             11  \n",
      "1370                             10  \n",
      "1371                              6  \n",
      "1372                             15  \n",
      "1373                              3  \n",
      "1374                              9  \n",
      "1375                             16  \n",
      "1376                             11  \n",
      "1377                             16  \n",
      "1378                             16  \n",
      "1379                             13  \n",
      "1380                             15  \n",
      "1381                             10  \n",
      "1382                              6  \n",
      "1383                             15  \n",
      "1384                             13  \n",
      "\n",
      "[1385 rows x 20 columns]\n"
     ]
    }
   ],
   "source": [
    "#print df.head()\n",
    "\n",
    "\n",
    "features = list(['Baselinehistological staging','Age ','Gender','BMI','Fever','Nausea/Vomting','Headache ' ,'Diarrhea ','Fatigue & generalized bone ache ','Jaundice ' ,'Epigastric pain ', 'WBC','RBC','HGB','Plat','RNA Base','RNA 4','RNA 12','RNA EOT','RNA EF','Baseline histological Grading']\n",
    ")\n",
    "#print features\n",
    "exclude_list = ['Baselinehistological staging']\n",
    "for i in exclude_list:\n",
    "    features.remove(i)\n",
    "\n",
    "X = df[features]\n",
    "y = df['Baselinehistological staging']\n",
    "print X"
   ]
  },
  {
   "cell_type": "code",
   "execution_count": 29,
   "metadata": {},
   "outputs": [
    {
     "name": "stdout",
     "output_type": "stream",
     "text": [
      "(26.21, '%')\n"
     ]
    }
   ],
   "source": [
    "#decision Tree\n",
    "from sklearn import tree\n",
    "\n",
    "clf = tree.DecisionTreeClassifier()\n",
    "clf = clf.fit(X_train, y_train)\n",
    "\n",
    "y_predicted = clf.predict(X_test)\n",
    "\n",
    "accuracy = accuracy_score(y_test, y_predicted)*100\n",
    "print(round(accuracy, 2), '%')\n"
   ]
  },
  {
   "cell_type": "code",
   "execution_count": 14,
   "metadata": {},
   "outputs": [
    {
     "name": "stdout",
     "output_type": "stream",
     "text": [
      "(1448, 20)\n",
      "(1448,)\n"
     ]
    }
   ],
   "source": [
    "#apply Smote\n",
    "\n",
    "from imblearn.over_sampling import SMOTE\n",
    "sm = SMOTE(random_state=42)\n",
    "X, y = sm.fit_resample(X, y)\n",
    "\n",
    "print X.shape\n",
    "print y.shape"
   ]
  },
  {
   "cell_type": "code",
   "execution_count": 15,
   "metadata": {},
   "outputs": [],
   "source": [
    "X_train, X_test, y_train, y_test = train_test_split(X, y, test_size=0.2, random_state=42)"
   ]
  },
  {
   "cell_type": "code",
   "execution_count": 16,
   "metadata": {},
   "outputs": [],
   "source": [
    "#print X_train"
   ]
  },
  {
   "cell_type": "code",
   "execution_count": 17,
   "metadata": {},
   "outputs": [],
   "source": [
    "from sklearn.svm import LinearSVC\n",
    "from sklearn import metrics"
   ]
  },
  {
   "cell_type": "code",
   "execution_count": 18,
   "metadata": {},
   "outputs": [
    {
     "name": "stdout",
     "output_type": "stream",
     "text": [
      "('Accuracy : ', 0.2689655172413793)\n"
     ]
    },
    {
     "name": "stderr",
     "output_type": "stream",
     "text": [
      "/opt/anaconda2/lib/python2.7/site-packages/sklearn/linear_model/logistic.py:433: FutureWarning: Default solver will be changed to 'lbfgs' in 0.22. Specify a solver to silence this warning.\n",
      "  FutureWarning)\n",
      "/opt/anaconda2/lib/python2.7/site-packages/sklearn/linear_model/logistic.py:460: FutureWarning: Default multi_class will be changed to 'auto' in 0.22. Specify the multi_class option to silence this warning.\n",
      "  \"this warning.\", FutureWarning)\n"
     ]
    }
   ],
   "source": [
    "# logistic regression\n",
    "from sklearn.linear_model import LogisticRegression \n",
    "\n",
    "classifier = LogisticRegression(random_state = 0) \n",
    "\n",
    "classifier.fit(X_train, y_train) \n",
    "\n",
    "y_pred = classifier.predict(X_test) \n",
    "\n",
    "print (\"Accuracy : \", metrics.accuracy_score(y_test, y_pred))"
   ]
  },
  {
   "cell_type": "code",
   "execution_count": 19,
   "metadata": {},
   "outputs": [],
   "source": [
    "from sklearn.decomposition import PCA\n",
    "pca = PCA(n_components=15)\n",
    "X=pca.fit_transform(X)"
   ]
  },
  {
   "cell_type": "code",
   "execution_count": 20,
   "metadata": {},
   "outputs": [
    {
     "name": "stdout",
     "output_type": "stream",
     "text": [
      "(1448, 15)\n"
     ]
    }
   ],
   "source": [
    "print X.shape"
   ]
  },
  {
   "cell_type": "code",
   "execution_count": 21,
   "metadata": {},
   "outputs": [],
   "source": [
    "X_train, X_test, y_train, y_test = train_test_split(X, y, test_size=0.2, random_state=1)"
   ]
  },
  {
   "cell_type": "code",
   "execution_count": 22,
   "metadata": {},
   "outputs": [
    {
     "name": "stdout",
     "output_type": "stream",
     "text": [
      "(30.0, '%')\n"
     ]
    }
   ],
   "source": [
    "\n",
    "\n",
    "fit_random_forest = RandomForestClassifier(random_state = 42, n_estimators=100)\n",
    "\n",
    "fit_random_forest.fit(X_train, y_train)\n",
    "y_predicted = fit_random_forest.predict(X_test)\n",
    "\n",
    "accuracy = accuracy_score(y_test, y_predicted)*100\n",
    "print(round(accuracy, 2), '%')"
   ]
  },
  {
   "cell_type": "code",
   "execution_count": 23,
   "metadata": {},
   "outputs": [
    {
     "data": {
      "text/plain": [
       "array([ True,  True,  True,  True,  True,  True,  True,  True,  True,\n",
       "        True,  True,  True,  True,  True,  True])"
      ]
     },
     "execution_count": 23,
     "metadata": {},
     "output_type": "execute_result"
    }
   ],
   "source": [
    "#SVR\n",
    "\n",
    "from sklearn.feature_selection import RFE\n",
    "from sklearn.svm import SVR\n",
    "\n",
    "estimator = SVR(kernel=\"linear\")\n",
    "selector = RFE(estimator, 20, step=1)\n",
    "selector = selector.fit(X, y)\n",
    "selector.support_\n"
   ]
  },
  {
   "cell_type": "code",
   "execution_count": 24,
   "metadata": {},
   "outputs": [
    {
     "data": {
      "text/plain": [
       "array([1, 1, 1, 1, 1, 1, 1, 1, 1, 1, 1, 1, 1, 1, 1])"
      ]
     },
     "execution_count": 24,
     "metadata": {},
     "output_type": "execute_result"
    }
   ],
   "source": [
    "selector.ranking_"
   ]
  },
  {
   "cell_type": "code",
   "execution_count": 25,
   "metadata": {},
   "outputs": [],
   "source": []
  },
  {
   "cell_type": "code",
   "execution_count": 35,
   "metadata": {},
   "outputs": [],
   "source": [
    "clf = tree.DecisionTreeClassifier()\n",
    "clf = clf.fit(X_train, y_train)"
   ]
  },
  {
   "cell_type": "code",
   "execution_count": 36,
   "metadata": {},
   "outputs": [
    {
     "name": "stdout",
     "output_type": "stream",
     "text": [
      "(26.9, '%')\n"
     ]
    }
   ],
   "source": [
    "y_predicted = clf.predict(X_test)\n",
    "\n",
    "accuracy = accuracy_score(y_test, y_predicted)*100\n",
    "print(round(accuracy, 2), '%')\n"
   ]
  },
  {
   "cell_type": "code",
   "execution_count": null,
   "metadata": {},
   "outputs": [],
   "source": []
  }
 ],
 "metadata": {
  "kernelspec": {
   "display_name": "Python 2",
   "language": "python",
   "name": "python2"
  },
  "language_info": {
   "codemirror_mode": {
    "name": "ipython",
    "version": 2
   },
   "file_extension": ".py",
   "mimetype": "text/x-python",
   "name": "python",
   "nbconvert_exporter": "python",
   "pygments_lexer": "ipython2",
   "version": "2.7.17"
  }
 },
 "nbformat": 4,
 "nbformat_minor": 2
}
